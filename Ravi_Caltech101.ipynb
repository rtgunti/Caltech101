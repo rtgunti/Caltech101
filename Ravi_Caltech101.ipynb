{
 "cells": [
  {
   "cell_type": "markdown",
   "metadata": {},
   "source": [
    "Import required Libraries"
   ]
  },
  {
   "cell_type": "code",
   "execution_count": null,
   "metadata": {},
   "outputs": [],
   "source": [
    "import numpy as np\n",
    "import keras\n",
    "from keras.models import Sequential\n",
    "from keras.layers import Dense, Dropout, Flatten, Activation\n",
    "from keras.layers import Conv2D, MaxPooling2D\n",
    "from keras.optimizers import SGD\n",
    "from keras.preprocessing.image import ImageDataGenerator\n",
    "import errno\n",
    "import os\n",
    "import shutil"
   ]
  },
  {
   "cell_type": "markdown",
   "metadata": {},
   "source": [
    "Set Data, Training and Test paths"
   ]
  },
  {
   "cell_type": "code",
   "execution_count": null,
   "metadata": {},
   "outputs": [],
   "source": [
    "path = 'D://CVDL//Project//Caltech101'\n",
    "train_path = 'D://CVDL//Project//train//'\n",
    "test_path = 'D://CVDL//Project//test//'\n",
    "os.mkdir(train_path)\n",
    "os.mkdir(test_path)"
   ]
  },
  {
   "cell_type": "markdown",
   "metadata": {},
   "source": [
    "Split data to train and test"
   ]
  },
  {
   "cell_type": "code",
   "execution_count": null,
   "metadata": {},
   "outputs": [],
   "source": [
    "k = -1\n",
    "os.chdir(path)\n",
    "for root, dirs, files in os.walk(path, topdown=True):\n",
    "    if(k==-1):\n",
    "        dirrs = dirs\n",
    "        k=0\n",
    "    else:        \n",
    "        test_len = round(len(files)*90/100)\n",
    "        os.mkdir(test_path+ dirrs[k])\n",
    "        os.mkdir(train_path+ dirrs[k])\n",
    "            \n",
    "        for i in range(0,round(len(files)*90/100)):\n",
    "            shutil.copy(path+'//'+dirrs[k]+'//'+files[i],train_path+dirrs[k])\n",
    "            i = i+1                    \n",
    "\n",
    "        for i in range(round(len(files)*90/100),len(files)-1):  \n",
    "            shutil.copy(path+'//'+dirrs[k]+'//'+files[i],test_path+dirrs[k])\n",
    "            i = i+1\n",
    "            \n",
    "        k = k+1\n",
    "        if(k>len(dirrs)-1):\n",
    "            break\n"
   ]
  },
  {
   "cell_type": "markdown",
   "metadata": {},
   "source": [
    "Read train and test images using ImageDataGenerator"
   ]
  },
  {
   "cell_type": "code",
   "execution_count": null,
   "metadata": {},
   "outputs": [],
   "source": [
    "def readBatch():\n",
    "    \n",
    "    train_datagen = ImageDataGenerator(\n",
    "        rescale=1./255,\n",
    "        shear_range=0.2,\n",
    "        zoom_range=0.2,\n",
    "        horizontal_flip=True)\n",
    "    train_generator = train_datagen.flow_from_directory(\n",
    "        train_path,\n",
    "        target_size=(150, 150),\n",
    "        batch_size=7811,\n",
    "        class_mode='categorical')\n",
    "    print(\"please wait\")\n",
    "    k=0\n",
    "    for i in train_generator:\n",
    "        train_images,train_labels = i\n",
    "        break\n",
    "        \n",
    "    test_datagen = ImageDataGenerator(\n",
    "        rescale=1./255,\n",
    "        shear_range=0.2,\n",
    "        zoom_range=0.2,\n",
    "        horizontal_flip=True)\n",
    "    test_generator = test_datagen.flow_from_directory(\n",
    "        train_path,\n",
    "        target_size=(150, 150),\n",
    "        batch_size=1000,\n",
    "        class_mode='categorical')\n",
    "    print(\"please wait\")\n",
    "    for i in test_generator:\n",
    "        test_images,test_labels = i\n",
    "        break\n",
    "    return train_images,train_labels,test_images,test_labels"
   ]
  },
  {
   "cell_type": "markdown",
   "metadata": {},
   "source": [
    "Define the model"
   ]
  },
  {
   "cell_type": "code",
   "execution_count": null,
   "metadata": {},
   "outputs": [],
   "source": [
    "def buildModel(train_images,train_labels):\n",
    "    model = Sequential()\n",
    "# input: 100x100 images with 3 channels -> (100, 100, 3) tensors.\n",
    "# this applies 32 convolution filters of size 3x3 each.\n",
    "    model.add(Conv2D(32, (3, 3), activation='relu', input_shape=(150, 150, 3)))\n",
    "    model.add(Conv2D(32, (3, 3), activation='relu'))\n",
    "    model.add(MaxPooling2D(pool_size=(2, 2)))\n",
    "    model.add(Dropout(0.25))\n",
    "\n",
    "    model.add(Conv2D(64, (3, 3), activation='relu'))\n",
    "    model.add(Conv2D(64, (3, 3), activation='relu'))\n",
    "    model.add(MaxPooling2D(pool_size=(2, 2)))\n",
    "#model.add(Dropout(0.25))\n",
    "\n",
    "#model.add(Dense(256, activation='relu'))\n",
    "    model.add(Dropout(0.5))\n",
    "    model.add(Flatten())\n",
    "\n",
    "    model.add(Dense(101, activation='softmax'))\n",
    "\n",
    "    sgd = SGD(lr=0.01, decay=1e-6, momentum=0.9, nesterov=True)\n",
    "    model.compile(loss='categorical_crossentropy', optimizer=sgd,metrics=['accuracy'])\n",
    "\n",
    "    model.fit(train_images, train_labels, batch_size=32, epochs=1)\n",
    "    #score = model.evaluate(x_test, y_test, batch_size=32)\n",
    "    return model\n"
   ]
  },
  {
   "cell_type": "markdown",
   "metadata": {},
   "source": [
    "Lets begin!"
   ]
  },
  {
   "cell_type": "code",
   "execution_count": null,
   "metadata": {},
   "outputs": [],
   "source": [
    "train_images,train_labels,test_images,test_labels = readBatch();\n",
    "\n",
    "#     from keras.models import load_model\n",
    "#     model = load_model('modelfold09.h5')\n",
    "#     correct = 0\n",
    "#     for i in range(0,len(train_labels)):\n",
    "#         if(train_labels[i] == model.predict(test_images[i])):\n",
    "#             correct=correct+1\n",
    "#     print(\"accuracy :\"+ correct/len(train_labels))\n",
    "\n"
   ]
  },
  {
   "cell_type": "markdown",
   "metadata": {},
   "source": [
    "Build the model"
   ]
  },
  {
   "cell_type": "code",
   "execution_count": null,
   "metadata": {},
   "outputs": [],
   "source": [
    "model = buildModel(train_images,train_labels)"
   ]
  },
  {
   "cell_type": "markdown",
   "metadata": {},
   "source": [
    "Get the score"
   ]
  },
  {
   "cell_type": "code",
   "execution_count": null,
   "metadata": {},
   "outputs": [],
   "source": [
    "print(\"score\"+str(model.evaluate(test_images,test_labels)))"
   ]
  }
 ],
 "metadata": {
  "kernelspec": {
   "display_name": "Python 3",
   "language": "python",
   "name": "python3"
  },
  "language_info": {
   "codemirror_mode": {
    "name": "ipython",
    "version": 3
   },
   "file_extension": ".py",
   "mimetype": "text/x-python",
   "name": "python",
   "nbconvert_exporter": "python",
   "pygments_lexer": "ipython3",
   "version": "3.7.3"
  }
 },
 "nbformat": 4,
 "nbformat_minor": 2
}
